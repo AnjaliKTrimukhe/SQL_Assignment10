{
 "cells": [
  {
   "cell_type": "markdown",
   "id": "2b49ac88",
   "metadata": {},
   "source": [
    "Q-19. Write an SQL query to determine the 5th highest salary without using TOP or limit\n",
    "method.\n",
    "Ans:\n",
    "select * from(\n",
    "select ename, sal, dense_rank() \n",
    "over(order by sal desc)r from Employee) \n",
    "where r=5;"
   ]
  },
  {
   "cell_type": "markdown",
   "id": "282898b9",
   "metadata": {},
   "source": [
    "Q-20. Write an SQL query to fetch the list of employees with the same salary.\n",
    "Ans:\n",
    "Select distinct W.WORKER_ID, W.FIRST_NAME, W.Salary from Worker W, Worker W1\n",
    "where W.Salary = W1.Salary\n",
    "and W.WORKER_ID != W1.WORKER_ID;"
   ]
  }
 ],
 "metadata": {
  "kernelspec": {
   "display_name": "Python 3 (ipykernel)",
   "language": "python",
   "name": "python3"
  },
  "language_info": {
   "codemirror_mode": {
    "name": "ipython",
    "version": 3
   },
   "file_extension": ".py",
   "mimetype": "text/x-python",
   "name": "python",
   "nbconvert_exporter": "python",
   "pygments_lexer": "ipython3",
   "version": "3.9.7"
  }
 },
 "nbformat": 4,
 "nbformat_minor": 5
}
